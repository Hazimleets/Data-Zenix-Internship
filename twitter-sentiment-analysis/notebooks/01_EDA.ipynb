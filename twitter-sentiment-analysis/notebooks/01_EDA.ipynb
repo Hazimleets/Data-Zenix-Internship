{
 "cells": [
  {
   "cell_type": "code",
   "execution_count": null,
   "id": "325c4153",
   "metadata": {
    "vscode": {
     "languageId": "plaintext"
    }
   },
   "outputs": [],
   "source": []
  },
  {
   "cell_type": "code",
   "execution_count": null,
   "id": "eea40f75",
   "metadata": {
    "vscode": {
     "languageId": "plaintext"
    }
   },
   "outputs": [],
   "source": [
    "import pandas as pd\n",
    "import seaborn as sns\n",
    "import matplotlib.pyplot as plt\n",
    "\n",
    "train_df = pd.read_csv(\"../data/raw/twitter_training.csv\", header=None)\n",
    "val_df = pd.read_csv(\"../data/raw/twitter_validation.csv\", header=None)\n",
    "\n",
    "train_df.columns = [\"id\", \"entity\", \"sentiment\", \"content\"]\n",
    "val_df.columns = [\"id\", \"entity\", \"sentiment\", \"content\"]\n",
    "\n",
    "# Sentiment distribution\n",
    "sns.countplot(x=\"sentiment\", data=train_df)\n",
    "plt.title(\"Training Sentiment Distribution\")\n",
    "plt.show()\n",
    "\n",
    "sns.countplot(x=\"sentiment\", data=val_df)\n",
    "plt.title(\"Validation Sentiment Distribution\")\n",
    "plt.show()\n"
   ]
  }
 ],
 "metadata": {
  "language_info": {
   "name": "python"
  }
 },
 "nbformat": 4,
 "nbformat_minor": 5
}
